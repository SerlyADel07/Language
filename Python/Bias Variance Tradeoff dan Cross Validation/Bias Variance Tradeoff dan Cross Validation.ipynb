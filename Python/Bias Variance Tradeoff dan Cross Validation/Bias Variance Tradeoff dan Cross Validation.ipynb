{
 "cells": [
  {
   "cell_type": "code",
   "execution_count": 16,
   "id": "a58e931a-8df2-4eef-988a-30fbe1bb2a30",
   "metadata": {},
   "outputs": [],
   "source": [
    "import pandas as pd\n",
    "from sklearn.linear_model import LinearRegression\n",
    "from mlxtend.evaluate import bias_variance_decomp\n",
    "from sklearn.neighbors import KNeighborsClassifier\n",
    "from sklearn.naive_bayes import GaussianNB\n",
    "from sklearn import svm\n",
    "import matplotlib.pyplot as plt\n",
    "import seaborn as sns\n",
    "from sklearn.model_selection import cross_val_score"
   ]
  },
  {
   "cell_type": "code",
   "execution_count": 3,
   "id": "d44de11d-0b75-4625-a9c3-d007ad65ecad",
   "metadata": {},
   "outputs": [
    {
     "data": {
      "text/html": [
       "<div>\n",
       "<style scoped>\n",
       "    .dataframe tbody tr th:only-of-type {\n",
       "        vertical-align: middle;\n",
       "    }\n",
       "\n",
       "    .dataframe tbody tr th {\n",
       "        vertical-align: top;\n",
       "    }\n",
       "\n",
       "    .dataframe thead th {\n",
       "        text-align: right;\n",
       "    }\n",
       "</style>\n",
       "<table border=\"1\" class=\"dataframe\">\n",
       "  <thead>\n",
       "    <tr style=\"text-align: right;\">\n",
       "      <th></th>\n",
       "      <th>fever</th>\n",
       "      <th>bodyPain</th>\n",
       "      <th>age</th>\n",
       "      <th>runnyNose</th>\n",
       "      <th>diffBreath</th>\n",
       "      <th>infectionProb</th>\n",
       "    </tr>\n",
       "  </thead>\n",
       "  <tbody>\n",
       "    <tr>\n",
       "      <th>0</th>\n",
       "      <td>102</td>\n",
       "      <td>0</td>\n",
       "      <td>9</td>\n",
       "      <td>0</td>\n",
       "      <td>-1</td>\n",
       "      <td>0</td>\n",
       "    </tr>\n",
       "    <tr>\n",
       "      <th>1</th>\n",
       "      <td>102</td>\n",
       "      <td>0</td>\n",
       "      <td>10</td>\n",
       "      <td>0</td>\n",
       "      <td>0</td>\n",
       "      <td>1</td>\n",
       "    </tr>\n",
       "    <tr>\n",
       "      <th>2</th>\n",
       "      <td>104</td>\n",
       "      <td>0</td>\n",
       "      <td>33</td>\n",
       "      <td>1</td>\n",
       "      <td>-1</td>\n",
       "      <td>0</td>\n",
       "    </tr>\n",
       "    <tr>\n",
       "      <th>3</th>\n",
       "      <td>101</td>\n",
       "      <td>1</td>\n",
       "      <td>59</td>\n",
       "      <td>0</td>\n",
       "      <td>1</td>\n",
       "      <td>0</td>\n",
       "    </tr>\n",
       "    <tr>\n",
       "      <th>4</th>\n",
       "      <td>99</td>\n",
       "      <td>0</td>\n",
       "      <td>98</td>\n",
       "      <td>0</td>\n",
       "      <td>0</td>\n",
       "      <td>0</td>\n",
       "    </tr>\n",
       "  </tbody>\n",
       "</table>\n",
       "</div>"
      ],
      "text/plain": [
       "   fever  bodyPain  age  runnyNose  diffBreath  infectionProb\n",
       "0    102         0    9          0          -1              0\n",
       "1    102         0   10          0           0              1\n",
       "2    104         0   33          1          -1              0\n",
       "3    101         1   59          0           1              0\n",
       "4     99         0   98          0           0              0"
      ]
     },
     "execution_count": 3,
     "metadata": {},
     "output_type": "execute_result"
    }
   ],
   "source": [
    "df=pd.read_csv(\"covid19.csv\")\n",
    "df.head()"
   ]
  },
  {
   "cell_type": "markdown",
   "id": "36ad5be5-17e9-44bb-8dce-374433b5ef6b",
   "metadata": {},
   "source": [
    "### Cleansing Data"
   ]
  },
  {
   "cell_type": "code",
   "execution_count": 4,
   "id": "802a1372-932b-4749-bd6a-f9ac88a3eddf",
   "metadata": {},
   "outputs": [
    {
     "data": {
      "text/plain": [
       "fever            0\n",
       "bodyPain         0\n",
       "age              0\n",
       "runnyNose        0\n",
       "diffBreath       0\n",
       "infectionProb    0\n",
       "dtype: int64"
      ]
     },
     "execution_count": 4,
     "metadata": {},
     "output_type": "execute_result"
    }
   ],
   "source": [
    "df.isna().sum()"
   ]
  },
  {
   "cell_type": "markdown",
   "id": "f407ba37-f502-4e98-86ce-23b2c806a453",
   "metadata": {},
   "source": [
    "#### Persiapkan Data"
   ]
  },
  {
   "cell_type": "code",
   "execution_count": 6,
   "id": "fcf40c9f-bec3-40c5-bf8b-b0c702132b46",
   "metadata": {},
   "outputs": [],
   "source": [
    "X=df[[\"fever\",\"bodyPain\",\"age\",\"runnyNose\",\"diffBreath\"]].to_numpy()\n",
    "y=df[\"infectionProb\"].to_numpy()"
   ]
  },
  {
   "cell_type": "markdown",
   "id": "4dd9497f-ca4d-4323-af74-8007e7de1041",
   "metadata": {},
   "source": [
    "#### Splitting Data"
   ]
  },
  {
   "cell_type": "code",
   "execution_count": 9,
   "id": "0f0342cf-ae0c-4825-a6bd-46425316b9b5",
   "metadata": {},
   "outputs": [],
   "source": [
    "## Splitting Data\n",
    "from sklearn.model_selection import train_test_split\n",
    "\n",
    "X_train, X_test, y_train, y_test = train_test_split(X, y, test_size=0.3)"
   ]
  },
  {
   "cell_type": "code",
   "execution_count": 11,
   "id": "4ca9c4bf-1be5-4947-b798-f80ffde519c9",
   "metadata": {},
   "outputs": [
    {
     "name": "stdout",
     "output_type": "stream",
     "text": [
      "MSE: 0.491\n",
      "Bias: 0.353\n",
      "Variance: 0.138\n",
      "===\n",
      "MSE: 0.251\n",
      "Bias: 0.250\n",
      "Variance: 0.001\n",
      "===\n",
      "MSE: 0.480\n",
      "Bias: 0.308\n",
      "Variance: 0.172\n",
      "===\n",
      "MSE: 0.490\n",
      "Bias: 0.341\n",
      "Variance: 0.149\n"
     ]
    }
   ],
   "source": [
    "model1 = svm.SVC()\n",
    "model2 = LinearRegression()\n",
    "model3 = KNeighborsClassifier()\n",
    "model4 = GaussianNB()\n",
    "\n",
    "mse1, bias1, var1 = bias_variance_decomp(model1, X_train, y_train, X_test, y_test, loss=\"mse\", random_seed=100)\n",
    "mse2, bias2, var2 = bias_variance_decomp(model2, X_train, y_train, X_test, y_test, loss=\"mse\", random_seed=100)\n",
    "mse3, bias3, var3 = bias_variance_decomp(model3, X_train, y_train, X_test, y_test, loss=\"mse\", random_seed=100)\n",
    "mse4, bias4, var4 = bias_variance_decomp(model4, X_train, y_train, X_test, y_test, loss=\"mse\", random_seed=100)\n",
    "\n",
    "print(\"MSE: %.3f\" % mse1)\n",
    "print(\"Bias: %.3f\" % bias1)\n",
    "print(\"Variance: %.3f\" % var1)\n",
    "\n",
    "print(\"===\")\n",
    "\n",
    "print(\"MSE: %.3f\" % mse2)\n",
    "print(\"Bias: %.3f\" % bias2)\n",
    "print(\"Variance: %.3f\" % var2)\n",
    "\n",
    "print(\"===\")\n",
    "\n",
    "print(\"MSE: %.3f\" % mse3)\n",
    "print(\"Bias: %.3f\" % bias3)\n",
    "print(\"Variance: %.3f\" % var3)\n",
    "\n",
    "print(\"===\")\n",
    "\n",
    "print(\"MSE: %.3f\" % mse4)\n",
    "print(\"Bias: %.3f\" % bias4)\n",
    "print(\"Variance: %.3f\" % var4)"
   ]
  },
  {
   "cell_type": "code",
   "execution_count": 12,
   "id": "01ec7895-5aae-4ef0-b438-8c4f25c67390",
   "metadata": {},
   "outputs": [
    {
     "data": {
      "text/html": [
       "<div>\n",
       "<style scoped>\n",
       "    .dataframe tbody tr th:only-of-type {\n",
       "        vertical-align: middle;\n",
       "    }\n",
       "\n",
       "    .dataframe tbody tr th {\n",
       "        vertical-align: top;\n",
       "    }\n",
       "\n",
       "    .dataframe thead th {\n",
       "        text-align: right;\n",
       "    }\n",
       "</style>\n",
       "<table border=\"1\" class=\"dataframe\">\n",
       "  <thead>\n",
       "    <tr style=\"text-align: right;\">\n",
       "      <th></th>\n",
       "      <th>mse</th>\n",
       "      <th>bias</th>\n",
       "      <th>variance</th>\n",
       "    </tr>\n",
       "  </thead>\n",
       "  <tbody>\n",
       "    <tr>\n",
       "      <th>0</th>\n",
       "      <td>0.253004</td>\n",
       "      <td>0.252215</td>\n",
       "      <td>0.000789</td>\n",
       "    </tr>\n",
       "    <tr>\n",
       "      <th>1</th>\n",
       "      <td>0.250359</td>\n",
       "      <td>0.249545</td>\n",
       "      <td>0.000814</td>\n",
       "    </tr>\n",
       "    <tr>\n",
       "      <th>2</th>\n",
       "      <td>0.249745</td>\n",
       "      <td>0.248866</td>\n",
       "      <td>0.000879</td>\n",
       "    </tr>\n",
       "    <tr>\n",
       "      <th>3</th>\n",
       "      <td>0.250508</td>\n",
       "      <td>0.249699</td>\n",
       "      <td>0.000809</td>\n",
       "    </tr>\n",
       "    <tr>\n",
       "      <th>4</th>\n",
       "      <td>0.249903</td>\n",
       "      <td>0.249101</td>\n",
       "      <td>0.000802</td>\n",
       "    </tr>\n",
       "    <tr>\n",
       "      <th>5</th>\n",
       "      <td>0.251772</td>\n",
       "      <td>0.250866</td>\n",
       "      <td>0.000906</td>\n",
       "    </tr>\n",
       "    <tr>\n",
       "      <th>6</th>\n",
       "      <td>0.251264</td>\n",
       "      <td>0.250453</td>\n",
       "      <td>0.000811</td>\n",
       "    </tr>\n",
       "    <tr>\n",
       "      <th>7</th>\n",
       "      <td>0.251134</td>\n",
       "      <td>0.250254</td>\n",
       "      <td>0.000880</td>\n",
       "    </tr>\n",
       "    <tr>\n",
       "      <th>8</th>\n",
       "      <td>0.250544</td>\n",
       "      <td>0.249682</td>\n",
       "      <td>0.000862</td>\n",
       "    </tr>\n",
       "    <tr>\n",
       "      <th>9</th>\n",
       "      <td>0.252487</td>\n",
       "      <td>0.251646</td>\n",
       "      <td>0.000841</td>\n",
       "    </tr>\n",
       "  </tbody>\n",
       "</table>\n",
       "</div>"
      ],
      "text/plain": [
       "        mse      bias  variance\n",
       "0  0.253004  0.252215  0.000789\n",
       "1  0.250359  0.249545  0.000814\n",
       "2  0.249745  0.248866  0.000879\n",
       "3  0.250508  0.249699  0.000809\n",
       "4  0.249903  0.249101  0.000802\n",
       "5  0.251772  0.250866  0.000906\n",
       "6  0.251264  0.250453  0.000811\n",
       "7  0.251134  0.250254  0.000880\n",
       "8  0.250544  0.249682  0.000862\n",
       "9  0.252487  0.251646  0.000841"
      ]
     },
     "execution_count": 12,
     "metadata": {},
     "output_type": "execute_result"
    }
   ],
   "source": [
    "model2 = LinearRegression()\n",
    "dataset = {\n",
    "    \"mse\": [],\n",
    "    \"bias\": [],\n",
    "    \"variance\": []\n",
    "}\n",
    "for i in range(1, 11):\n",
    "    X_train, X_test, y_train, y_test = train_test_split(X, y, test_size=0.3, random_state=i)\n",
    "    mse, bias, var = bias_variance_decomp(model2, X_train, y_train, X_test, y_test, loss=\"mse\", random_seed=100)\n",
    "    dataset['mse'].append(mse)\n",
    "    dataset['bias'].append(bias) \n",
    "    dataset['variance'].append(var)\n",
    "    \n",
    "df = pd.DataFrame(dataset)\n",
    "df"
   ]
  },
  {
   "cell_type": "code",
   "execution_count": 15,
   "id": "ec23545d-31b7-4487-9812-05ac0daf347a",
   "metadata": {},
   "outputs": [
    {
     "data": {
      "image/png": "[encoded data removed]",
      "text/plain": [
       "<Figure size 360x360 with 1 Axes>"
      ]
     },
     "metadata": {
      "needs_background": "light"
     },
     "output_type": "display_data"
    }
   ],
   "source": [
    "# Create lmplot\n",
    "sns.lmplot(x='variance', y='bias', data=df)\n",
    "\n",
    "# Show figure\n",
    "plt.show()"
   ]
  },
  {
   "cell_type": "markdown",
   "id": "581816bc-e060-4ff7-83ea-552a9d3aa0d8",
   "metadata": {},
   "source": [
    "### Cross Validation"
   ]
  },
  {
   "cell_type": "code",
   "execution_count": 18,
   "id": "f8fcea6c-92ab-455e-a848-bd04d9499384",
   "metadata": {},
   "outputs": [
    {
     "name": "stdout",
     "output_type": "stream",
     "text": [
      "[0.50291262 0.51456311 0.5184466  0.54174757 0.5184466 ]\n",
      "Rata:  51.922330097087375 %\n"
     ]
    }
   ],
   "source": [
    "score_cv = cross_val_score(KNeighborsClassifier(n_neighbors=6), X, y, cv=5)\n",
    "print(score_cv)\n",
    "print(\"Rata: \", score_cv.mean() * 100, \"%\")"
   ]
  },
  {
   "cell_type": "code",
   "execution_count": 19,
   "id": "0909cc0d-4b81-4825-8cd2-405ebb52c1f2",
   "metadata": {},
   "outputs": [
    {
     "name": "stdout",
     "output_type": "stream",
     "text": [
      "[0.50679612 0.51456311 0.48932039 0.51262136 0.49902913]\n",
      "Rata:  50.44660194174757 %\n"
     ]
    }
   ],
   "source": [
    "score_cv = cross_val_score(svm.SVC(kernel=\"linear\"), X, y, cv=5)\n",
    "print(score_cv)\n",
    "print(\"Rata: \", score_cv.mean() * 100, \"%\")"
   ]
  },
  {
   "cell_type": "code",
   "execution_count": 20,
   "id": "3c213ef5-99a3-4f0a-a5a3-7775170a3659",
   "metadata": {},
   "outputs": [
    {
     "name": "stdout",
     "output_type": "stream",
     "text": [
      "[0.47572816 0.5184466  0.50485437 0.50873786 0.50097087]\n",
      "Rata:  50.1747572815534 %\n"
     ]
    }
   ],
   "source": [
    "score_cv = cross_val_score(GaussianNB(), X, y, cv=5)\n",
    "print(score_cv)\n",
    "print(\"Rata: \", score_cv.mean() * 100, \"%\")"
   ]
  },
  {
   "cell_type": "code",
   "execution_count": 22,
   "id": "2faa7111-da5b-48e3-9648-4f632ebdf2a5",
   "metadata": {},
   "outputs": [
    {
     "data": {
      "text/plain": [
       "<AxesSubplot:xlabel='n_neighbors'>"
      ]
     },
     "execution_count": 22,
     "metadata": {},
     "output_type": "execute_result"
    },
    {
     "data": {
      "image/png": "[encoded data removed]",
      "text/plain": [
       "<Figure size 640x480 with 1 Axes>"
      ]
     },
     "metadata": {},
     "output_type": "display_data"
    }
   ],
   "source": [
    "# Tuning Otomatis\n",
    "\n",
    "dataset = {\n",
    "    \"score\": [],\n",
    "    \"n_neighbors\": []\n",
    "}\n",
    "\n",
    "for i in range(1, 11):\n",
    "    score_cv = cross_val_score(svm.SVC(kernel=\"linear\"), X, y, cv=5)\n",
    "    dataset['n_neighbors'].append(i)    \n",
    "    dataset['score'].append(score_cv.mean())\n",
    "\n",
    "df = pd.DataFrame(dataset)\n",
    "\n",
    "df.plot(x=\"n_neighbors\", y=\"score\")"
   ]
  },
  {
   "cell_type": "code",
   "execution_count": null,
   "id": "9f14e916-fe5a-4e30-a4c8-c7a2957b15f3",
   "metadata": {},
   "outputs": [],
   "source": []
  }
 ],
 "metadata": {
  "kernelspec": {
   "display_name": "Python 3 (ipykernel)",
   "language": "python",
   "name": "python3"
  },
  "language_info": {
   "codemirror_mode": {
    "name": "ipython",
    "version": 3
   },
   "file_extension": ".py",
   "mimetype": "text/x-python",
   "name": "python",
   "nbconvert_exporter": "python",
   "pygments_lexer": "ipython3",
   "version": "3.10.3"
  }
 },
 "nbformat": 4,
 "nbformat_minor": 5
}
