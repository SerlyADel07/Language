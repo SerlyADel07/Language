{
  "nbformat": 4,
  "nbformat_minor": 0,
  "metadata": {
    "colab": {
      "name": "UjianMingguan5_Serly.ipynb",
      "provenance": [],
      "collapsed_sections": []
    },
    "kernelspec": {
      "name": "python3",
      "display_name": "Python 3"
    },
    "language_info": {
      "name": "python"
    }
  },
  "cells": [
    {
      "cell_type": "code",
      "execution_count": null,
      "metadata": {
        "id": "JAhMgZHmOtC2"
      },
      "outputs": [],
      "source": [
        "# Import Library yang dibutuhkan\n",
        "import pandas as pd\n",
        "import seaborn as sns\n",
        "import matplotlib.pyplot as plt"
      ]
    },
    {
      "cell_type": "code",
      "source": [
        "df=pd.read_csv('sample_data/movie.csv')\n",
        "df"
      ],
      "metadata": {
        "colab": {
          "base_uri": "https://localhost:8080/",
          "height": 1130
        },
        "id": "1w_EhNLdO8lA",
        "outputId": "487b62db-9cdc-4e84-a0a4-dacb8af4d32c"
      },
      "execution_count": null,
      "outputs": [
        {
          "output_type": "stream",
          "name": "stderr",
          "text": [
            "/usr/local/lib/python3.7/dist-packages/IPython/core/interactiveshell.py:2882: DtypeWarning: Columns (10) have mixed types.Specify dtype option on import or set low_memory=False.\n",
            "  exec(code_obj, self.user_global_ns, self.user_ns)\n"
          ]
        },
        {
          "output_type": "execute_result",
          "data": {
            "text/plain": [
              "       adult                              belongs_to_collection    budget  \\\n",
              "0      False  {'id': 10194, 'name': 'Toy Story Collection', ...  30000000   \n",
              "1      False                                                NaN  65000000   \n",
              "2      False  {'id': 119050, 'name': 'Grumpy Old Men Collect...         0   \n",
              "3      False                                                NaN  16000000   \n",
              "4      False  {'id': 96871, 'name': 'Father of the Bride Col...         0   \n",
              "...      ...                                                ...       ...   \n",
              "45461  False                                                NaN         0   \n",
              "45462  False                                                NaN         0   \n",
              "45463  False                                                NaN         0   \n",
              "45464  False                                                NaN         0   \n",
              "45465  False                                                NaN         0   \n",
              "\n",
              "                                                  genres  \\\n",
              "0      [{'id': 16, 'name': 'Animation'}, {'id': 35, '...   \n",
              "1      [{'id': 12, 'name': 'Adventure'}, {'id': 14, '...   \n",
              "2      [{'id': 10749, 'name': 'Romance'}, {'id': 35, ...   \n",
              "3      [{'id': 35, 'name': 'Comedy'}, {'id': 18, 'nam...   \n",
              "4                         [{'id': 35, 'name': 'Comedy'}]   \n",
              "...                                                  ...   \n",
              "45461  [{'id': 18, 'name': 'Drama'}, {'id': 10751, 'n...   \n",
              "45462                      [{'id': 18, 'name': 'Drama'}]   \n",
              "45463  [{'id': 28, 'name': 'Action'}, {'id': 18, 'nam...   \n",
              "45464                                                 []   \n",
              "45465                                                 []   \n",
              "\n",
              "                                   homepage      id    imdb_id  \\\n",
              "0      http://toystory.disney.com/toy-story     862  tt0114709   \n",
              "1                                       NaN    8844  tt0113497   \n",
              "2                                       NaN   15602  tt0113228   \n",
              "3                                       NaN   31357  tt0114885   \n",
              "4                                       NaN   11862  tt0113041   \n",
              "...                                     ...     ...        ...   \n",
              "45461  http://www.imdb.com/title/tt6209470/  439050  tt6209470   \n",
              "45462                                   NaN  111109  tt2028550   \n",
              "45463                                   NaN   67758  tt0303758   \n",
              "45464                                   NaN  227506  tt0008536   \n",
              "45465                                   NaN  461257  tt6980792   \n",
              "\n",
              "      original_language               original_title  \\\n",
              "0                    en                    Toy Story   \n",
              "1                    en                      Jumanji   \n",
              "2                    en             Grumpier Old Men   \n",
              "3                    en            Waiting to Exhale   \n",
              "4                    en  Father of the Bride Part II   \n",
              "...                 ...                          ...   \n",
              "45461                fa                      رگ خواب   \n",
              "45462                tl          Siglo ng Pagluluwal   \n",
              "45463                en                     Betrayal   \n",
              "45464                en          Satana likuyushchiy   \n",
              "45465                en                     Queerama   \n",
              "\n",
              "                                                overview  ... release_date  \\\n",
              "0      Led by Woody, Andy's toys live happily in his ...  ...   1995-10-30   \n",
              "1      When siblings Judy and Peter discover an encha...  ...   1995-12-15   \n",
              "2      A family wedding reignites the ancient feud be...  ...   1995-12-22   \n",
              "3      Cheated on, mistreated and stepped on, the wom...  ...   1995-12-22   \n",
              "4      Just when George Banks has recovered from his ...  ...   1995-02-10   \n",
              "...                                                  ...  ...          ...   \n",
              "45461        Rising and falling between a man and woman.  ...          NaN   \n",
              "45462  An artist struggles to finish his work while a...  ...   2011-11-17   \n",
              "45463  When one of her hits goes wrong, a professiona...  ...   2003-08-01   \n",
              "45464  In a small town live two brothers, one a minis...  ...   1917-10-21   \n",
              "45465  50 years after decriminalisation of homosexual...  ...   2017-06-09   \n",
              "\n",
              "           revenue runtime                                   spoken_languages  \\\n",
              "0      373554033.0    81.0           [{'iso_639_1': 'en', 'name': 'English'}]   \n",
              "1      262797249.0   104.0  [{'iso_639_1': 'en', 'name': 'English'}, {'iso...   \n",
              "2              0.0   101.0           [{'iso_639_1': 'en', 'name': 'English'}]   \n",
              "3       81452156.0   127.0           [{'iso_639_1': 'en', 'name': 'English'}]   \n",
              "4       76578911.0   106.0           [{'iso_639_1': 'en', 'name': 'English'}]   \n",
              "...            ...     ...                                                ...   \n",
              "45461          0.0    90.0             [{'iso_639_1': 'fa', 'name': 'فارسی'}]   \n",
              "45462          0.0   360.0                  [{'iso_639_1': 'tl', 'name': ''}]   \n",
              "45463          0.0    90.0           [{'iso_639_1': 'en', 'name': 'English'}]   \n",
              "45464          0.0    87.0                                                 []   \n",
              "45465          0.0    75.0           [{'iso_639_1': 'en', 'name': 'English'}]   \n",
              "\n",
              "         status                                            tagline  \\\n",
              "0      Released                                                NaN   \n",
              "1      Released          Roll the dice and unleash the excitement!   \n",
              "2      Released  Still Yelling. Still Fighting. Still Ready for...   \n",
              "3      Released  Friends are the people who let you be yourself...   \n",
              "4      Released  Just When His World Is Back To Normal... He's ...   \n",
              "...         ...                                                ...   \n",
              "45461  Released         Rising and falling between a man and woman   \n",
              "45462  Released                                                NaN   \n",
              "45463  Released                             A deadly game of wits.   \n",
              "45464  Released                                                NaN   \n",
              "45465  Released                                                NaN   \n",
              "\n",
              "                             title  video vote_average vote_count  \n",
              "0                        Toy Story  False          7.7     5415.0  \n",
              "1                          Jumanji  False          6.9     2413.0  \n",
              "2                 Grumpier Old Men  False          6.5       92.0  \n",
              "3                Waiting to Exhale  False          6.1       34.0  \n",
              "4      Father of the Bride Part II  False          5.7      173.0  \n",
              "...                            ...    ...          ...        ...  \n",
              "45461                       Subdue  False          4.0        1.0  \n",
              "45462          Century of Birthing  False          9.0        3.0  \n",
              "45463                     Betrayal  False          3.8        6.0  \n",
              "45464             Satan Triumphant  False          0.0        0.0  \n",
              "45465                     Queerama  False          0.0        0.0  \n",
              "\n",
              "[45466 rows x 24 columns]"
            ],
            "text/html": [
              "\n",
              "  <div id=\"df-271d0ce5-3b6f-426a-af99-4810c94a582c\">\n",
              "    <div class=\"colab-df-container\">\n",
              "      <div>\n",
              "<style scoped>\n",
              "    .dataframe tbody tr th:only-of-type {\n",
              "        vertical-align: middle;\n",
              "    }\n",
              "\n",
              "    .dataframe tbody tr th {\n",
              "        vertical-align: top;\n",
              "    }\n",
              "\n",
              "    .dataframe thead th {\n",
              "        text-align: right;\n",
              "    }\n",
              "</style>\n",
              "<table border=\"1\" class=\"dataframe\">\n",
              "  <thead>\n",
              "    <tr style=\"text-align: right;\">\n",
              "      <th></th>\n",
              "      <th>adult</th>\n",
              "      <th>belongs_to_collection</th>\n",
              "      <th>budget</th>\n",
              "      <th>genres</th>\n",
              "      <th>homepage</th>\n",
              "      <th>id</th>\n",
              "      <th>imdb_id</th>\n",
              "      <th>original_language</th>\n",
              "      <th>original_title</th>\n",
              "      <th>overview</th>\n",
              "      <th>...</th>\n",
              "      <th>release_date</th>\n",
              "      <th>revenue</th>\n",
              "      <th>runtime</th>\n",
              "      <th>spoken_languages</th>\n",
              "      <th>status</th>\n",
              "      <th>tagline</th>\n",
              "      <th>title</th>\n",
              "      <th>video</th>\n",
              "      <th>vote_average</th>\n",
              "      <th>vote_count</th>\n",
              "    </tr>\n",
              "  </thead>\n",
              "  <tbody>\n",
              "    <tr>\n",
              "      <th>0</th>\n",
              "      <td>False</td>\n",
              "      <td>{'id': 10194, 'name': 'Toy Story Collection', ...</td>\n",
              "      <td>30000000</td>\n",
              "      <td>[{'id': 16, 'name': 'Animation'}, {'id': 35, '...</td>\n",
              "      <td>http://toystory.disney.com/toy-story</td>\n",
              "      <td>862</td>\n",
              "      <td>tt0114709</td>\n",
              "      <td>en</td>\n",
              "      <td>Toy Story</td>\n",
              "      <td>Led by Woody, Andy's toys live happily in his ...</td>\n",
              "      <td>...</td>\n",
              "      <td>1995-10-30</td>\n",
              "      <td>373554033.0</td>\n",
              "      <td>81.0</td>\n",
              "      <td>[{'iso_639_1': 'en', 'name': 'English'}]</td>\n",
              "      <td>Released</td>\n",
              "      <td>NaN</td>\n",
              "      <td>Toy Story</td>\n",
              "      <td>False</td>\n",
              "      <td>7.7</td>\n",
              "      <td>5415.0</td>\n",
              "    </tr>\n",
              "    <tr>\n",
              "      <th>1</th>\n",
              "      <td>False</td>\n",
              "      <td>NaN</td>\n",
              "      <td>65000000</td>\n",
              "      <td>[{'id': 12, 'name': 'Adventure'}, {'id': 14, '...</td>\n",
              "      <td>NaN</td>\n",
              "      <td>8844</td>\n",
              "      <td>tt0113497</td>\n",
              "      <td>en</td>\n",
              "      <td>Jumanji</td>\n",
              "      <td>When siblings Judy and Peter discover an encha...</td>\n",
              "      <td>...</td>\n",
              "      <td>1995-12-15</td>\n",
              "      <td>262797249.0</td>\n",
              "      <td>104.0</td>\n",
              "      <td>[{'iso_639_1': 'en', 'name': 'English'}, {'iso...</td>\n",
              "      <td>Released</td>\n",
              "      <td>Roll the dice and unleash the excitement!</td>\n",
              "      <td>Jumanji</td>\n",
              "      <td>False</td>\n",
              "      <td>6.9</td>\n",
              "      <td>2413.0</td>\n",
              "    </tr>\n",
              "    <tr>\n",
              "      <th>2</th>\n",
              "      <td>False</td>\n",
              "      <td>{'id': 119050, 'name': 'Grumpy Old Men Collect...</td>\n",
              "      <td>0</td>\n",
              "      <td>[{'id': 10749, 'name': 'Romance'}, {'id': 35, ...</td>\n",
              "      <td>NaN</td>\n",
              "      <td>15602</td>\n",
              "      <td>tt0113228</td>\n",
              "      <td>en</td>\n",
              "      <td>Grumpier Old Men</td>\n",
              "      <td>A family wedding reignites the ancient feud be...</td>\n",
              "      <td>...</td>\n",
              "      <td>1995-12-22</td>\n",
              "      <td>0.0</td>\n",
              "      <td>101.0</td>\n",
              "      <td>[{'iso_639_1': 'en', 'name': 'English'}]</td>\n",
              "      <td>Released</td>\n",
              "      <td>Still Yelling. Still Fighting. Still Ready for...</td>\n",
              "      <td>Grumpier Old Men</td>\n",
              "      <td>False</td>\n",
              "      <td>6.5</td>\n",
              "      <td>92.0</td>\n",
              "    </tr>\n",
              "    <tr>\n",
              "      <th>3</th>\n",
              "      <td>False</td>\n",
              "      <td>NaN</td>\n",
              "      <td>16000000</td>\n",
              "      <td>[{'id': 35, 'name': 'Comedy'}, {'id': 18, 'nam...</td>\n",
              "      <td>NaN</td>\n",
              "      <td>31357</td>\n",
              "      <td>tt0114885</td>\n",
              "      <td>en</td>\n",
              "      <td>Waiting to Exhale</td>\n",
              "      <td>Cheated on, mistreated and stepped on, the wom...</td>\n",
              "      <td>...</td>\n",
              "      <td>1995-12-22</td>\n",
              "      <td>81452156.0</td>\n",
              "      <td>127.0</td>\n",
              "      <td>[{'iso_639_1': 'en', 'name': 'English'}]</td>\n",
              "      <td>Released</td>\n",
              "      <td>Friends are the people who let you be yourself...</td>\n",
              "      <td>Waiting to Exhale</td>\n",
              "      <td>False</td>\n",
              "      <td>6.1</td>\n",
              "      <td>34.0</td>\n",
              "    </tr>\n",
              "    <tr>\n",
              "      <th>4</th>\n",
              "      <td>False</td>\n",
              "      <td>{'id': 96871, 'name': 'Father of the Bride Col...</td>\n",
              "      <td>0</td>\n",
              "      <td>[{'id': 35, 'name': 'Comedy'}]</td>\n",
              "      <td>NaN</td>\n",
              "      <td>11862</td>\n",
              "      <td>tt0113041</td>\n",
              "      <td>en</td>\n",
              "      <td>Father of the Bride Part II</td>\n",
              "      <td>Just when George Banks has recovered from his ...</td>\n",
              "      <td>...</td>\n",
              "      <td>1995-02-10</td>\n",
              "      <td>76578911.0</td>\n",
              "      <td>106.0</td>\n",
              "      <td>[{'iso_639_1': 'en', 'name': 'English'}]</td>\n",
              "      <td>Released</td>\n",
              "      <td>Just When His World Is Back To Normal... He's ...</td>\n",
              "      <td>Father of the Bride Part II</td>\n",
              "      <td>False</td>\n",
              "      <td>5.7</td>\n",
              "      <td>173.0</td>\n",
              "    </tr>\n",
              "    <tr>\n",
              "      <th>...</th>\n",
              "      <td>...</td>\n",
              "      <td>...</td>\n",
              "      <td>...</td>\n",
              "      <td>...</td>\n",
              "      <td>...</td>\n",
              "      <td>...</td>\n",
              "      <td>...</td>\n",
              "      <td>...</td>\n",
              "      <td>...</td>\n",
              "      <td>...</td>\n",
              "      <td>...</td>\n",
              "      <td>...</td>\n",
              "      <td>...</td>\n",
              "      <td>...</td>\n",
              "      <td>...</td>\n",
              "      <td>...</td>\n",
              "      <td>...</td>\n",
              "      <td>...</td>\n",
              "      <td>...</td>\n",
              "      <td>...</td>\n",
              "      <td>...</td>\n",
              "    </tr>\n",
              "    <tr>\n",
              "      <th>45461</th>\n",
              "      <td>False</td>\n",
              "      <td>NaN</td>\n",
              "      <td>0</td>\n",
              "      <td>[{'id': 18, 'name': 'Drama'}, {'id': 10751, 'n...</td>\n",
              "      <td>http://www.imdb.com/title/tt6209470/</td>\n",
              "      <td>439050</td>\n",
              "      <td>tt6209470</td>\n",
              "      <td>fa</td>\n",
              "      <td>رگ خواب</td>\n",
              "      <td>Rising and falling between a man and woman.</td>\n",
              "      <td>...</td>\n",
              "      <td>NaN</td>\n",
              "      <td>0.0</td>\n",
              "      <td>90.0</td>\n",
              "      <td>[{'iso_639_1': 'fa', 'name': 'فارسی'}]</td>\n",
              "      <td>Released</td>\n",
              "      <td>Rising and falling between a man and woman</td>\n",
              "      <td>Subdue</td>\n",
              "      <td>False</td>\n",
              "      <td>4.0</td>\n",
              "      <td>1.0</td>\n",
              "    </tr>\n",
              "    <tr>\n",
              "      <th>45462</th>\n",
              "      <td>False</td>\n",
              "      <td>NaN</td>\n",
              "      <td>0</td>\n",
              "      <td>[{'id': 18, 'name': 'Drama'}]</td>\n",
              "      <td>NaN</td>\n",
              "      <td>111109</td>\n",
              "      <td>tt2028550</td>\n",
              "      <td>tl</td>\n",
              "      <td>Siglo ng Pagluluwal</td>\n",
              "      <td>An artist struggles to finish his work while a...</td>\n",
              "      <td>...</td>\n",
              "      <td>2011-11-17</td>\n",
              "      <td>0.0</td>\n",
              "      <td>360.0</td>\n",
              "      <td>[{'iso_639_1': 'tl', 'name': ''}]</td>\n",
              "      <td>Released</td>\n",
              "      <td>NaN</td>\n",
              "      <td>Century of Birthing</td>\n",
              "      <td>False</td>\n",
              "      <td>9.0</td>\n",
              "      <td>3.0</td>\n",
              "    </tr>\n",
              "    <tr>\n",
              "      <th>45463</th>\n",
              "      <td>False</td>\n",
              "      <td>NaN</td>\n",
              "      <td>0</td>\n",
              "      <td>[{'id': 28, 'name': 'Action'}, {'id': 18, 'nam...</td>\n",
              "      <td>NaN</td>\n",
              "      <td>67758</td>\n",
              "      <td>tt0303758</td>\n",
              "      <td>en</td>\n",
              "      <td>Betrayal</td>\n",
              "      <td>When one of her hits goes wrong, a professiona...</td>\n",
              "      <td>...</td>\n",
              "      <td>2003-08-01</td>\n",
              "      <td>0.0</td>\n",
              "      <td>90.0</td>\n",
              "      <td>[{'iso_639_1': 'en', 'name': 'English'}]</td>\n",
              "      <td>Released</td>\n",
              "      <td>A deadly game of wits.</td>\n",
              "      <td>Betrayal</td>\n",
              "      <td>False</td>\n",
              "      <td>3.8</td>\n",
              "      <td>6.0</td>\n",
              "    </tr>\n",
              "    <tr>\n",
              "      <th>45464</th>\n",
              "      <td>False</td>\n",
              "      <td>NaN</td>\n",
              "      <td>0</td>\n",
              "      <td>[]</td>\n",
              "      <td>NaN</td>\n",
              "      <td>227506</td>\n",
              "      <td>tt0008536</td>\n",
              "      <td>en</td>\n",
              "      <td>Satana likuyushchiy</td>\n",
              "      <td>In a small town live two brothers, one a minis...</td>\n",
              "      <td>...</td>\n",
              "      <td>1917-10-21</td>\n",
              "      <td>0.0</td>\n",
              "      <td>87.0</td>\n",
              "      <td>[]</td>\n",
              "      <td>Released</td>\n",
              "      <td>NaN</td>\n",
              "      <td>Satan Triumphant</td>\n",
              "      <td>False</td>\n",
              "      <td>0.0</td>\n",
              "      <td>0.0</td>\n",
              "    </tr>\n",
              "    <tr>\n",
              "      <th>45465</th>\n",
              "      <td>False</td>\n",
              "      <td>NaN</td>\n",
              "      <td>0</td>\n",
              "      <td>[]</td>\n",
              "      <td>NaN</td>\n",
              "      <td>461257</td>\n",
              "      <td>tt6980792</td>\n",
              "      <td>en</td>\n",
              "      <td>Queerama</td>\n",
              "      <td>50 years after decriminalisation of homosexual...</td>\n",
              "      <td>...</td>\n",
              "      <td>2017-06-09</td>\n",
              "      <td>0.0</td>\n",
              "      <td>75.0</td>\n",
              "      <td>[{'iso_639_1': 'en', 'name': 'English'}]</td>\n",
              "      <td>Released</td>\n",
              "      <td>NaN</td>\n",
              "      <td>Queerama</td>\n",
              "      <td>False</td>\n",
              "      <td>0.0</td>\n",
              "      <td>0.0</td>\n",
              "    </tr>\n",
              "  </tbody>\n",
              "</table>\n",
              "<p>45466 rows × 24 columns</p>\n",
              "</div>\n",
              "      <button class=\"colab-df-convert\" onclick=\"convertToInteractive('df-271d0ce5-3b6f-426a-af99-4810c94a582c')\"\n",
              "              title=\"Convert this dataframe to an interactive table.\"\n",
              "              style=\"display:none;\">\n",
              "        \n",
              "  <svg xmlns=\"http://www.w3.org/2000/svg\" height=\"24px\"viewBox=\"0 0 24 24\"\n",
              "       width=\"24px\">\n",
              "    <path d=\"M0 0h24v24H0V0z\" fill=\"none\"/>\n",
              "    <path d=\"M18.56 5.44l.94 2.06.94-2.06 2.06-.94-2.06-.94-.94-2.06-.94 2.06-2.06.94zm-11 1L8.5 8.5l.94-2.06 2.06-.94-2.06-.94L8.5 2.5l-.94 2.06-2.06.94zm10 10l.94 2.06.94-2.06 2.06-.94-2.06-.94-.94-2.06-.94 2.06-2.06.94z\"/><path d=\"M17.41 7.96l-1.37-1.37c-.4-.4-.92-.59-1.43-.59-.52 0-1.04.2-1.43.59L10.3 9.45l-7.72 7.72c-.78.78-.78 2.05 0 2.83L4 21.41c.39.39.9.59 1.41.59.51 0 1.02-.2 1.41-.59l7.78-7.78 2.81-2.81c.8-.78.8-2.07 0-2.86zM5.41 20L4 18.59l7.72-7.72 1.47 1.35L5.41 20z\"/>\n",
              "  </svg>\n",
              "      </button>\n",
              "      \n",
              "  <style>\n",
              "    .colab-df-container {\n",
              "      display:flex;\n",
              "      flex-wrap:wrap;\n",
              "      gap: 12px;\n",
              "    }\n",
              "\n",
              "    .colab-df-convert {\n",
              "      background-color: #E8F0FE;\n",
              "      border: none;\n",
              "      border-radius: 50%;\n",
              "      cursor: pointer;\n",
              "      display: none;\n",
              "      fill: #1967D2;\n",
              "      height: 32px;\n",
              "      padding: 0 0 0 0;\n",
              "      width: 32px;\n",
              "    }\n",
              "\n",
              "    .colab-df-convert:hover {\n",
              "      background-color: #E2EBFA;\n",
              "      box-shadow: 0px 1px 2px rgba(60, 64, 67, 0.3), 0px 1px 3px 1px rgba(60, 64, 67, 0.15);\n",
              "      fill: #174EA6;\n",
              "    }\n",
              "\n",
              "    [theme=dark] .colab-df-convert {\n",
              "      background-color: #3B4455;\n",
              "      fill: #D2E3FC;\n",
              "    }\n",
              "\n",
              "    [theme=dark] .colab-df-convert:hover {\n",
              "      background-color: #434B5C;\n",
              "      box-shadow: 0px 1px 3px 1px rgba(0, 0, 0, 0.15);\n",
              "      filter: drop-shadow(0px 1px 2px rgba(0, 0, 0, 0.3));\n",
              "      fill: #FFFFFF;\n",
              "    }\n",
              "  </style>\n",
              "\n",
              "      <script>\n",
              "        const buttonEl =\n",
              "          document.querySelector('#df-271d0ce5-3b6f-426a-af99-4810c94a582c button.colab-df-convert');\n",
              "        buttonEl.style.display =\n",
              "          google.colab.kernel.accessAllowed ? 'block' : 'none';\n",
              "\n",
              "        async function convertToInteractive(key) {\n",
              "          const element = document.querySelector('#df-271d0ce5-3b6f-426a-af99-4810c94a582c');\n",
              "          const dataTable =\n",
              "            await google.colab.kernel.invokeFunction('convertToInteractive',\n",
              "                                                     [key], {});\n",
              "          if (!dataTable) return;\n",
              "\n",
              "          const docLinkHtml = 'Like what you see? Visit the ' +\n",
              "            '<a target=\"_blank\" href=https://colab.research.google.com/notebooks/data_table.ipynb>data table notebook</a>'\n",
              "            + ' to learn more about interactive tables.';\n",
              "          element.innerHTML = '';\n",
              "          dataTable['output_type'] = 'display_data';\n",
              "          await google.colab.output.renderOutput(dataTable, element);\n",
              "          const docLink = document.createElement('div');\n",
              "          docLink.innerHTML = docLinkHtml;\n",
              "          element.appendChild(docLink);\n",
              "        }\n",
              "      </script>\n",
              "    </div>\n",
              "  </div>\n",
              "  "
            ]
          },
          "metadata": {},
          "execution_count": 4
        }
      ]
    },
    {
      "cell_type": "markdown",
      "source": [
        "### Data Cleansing"
      ],
      "metadata": {
        "id": "mX1CuIO2HUrW"
      }
    },
    {
      "cell_type": "code",
      "source": [
        "df.info()"
      ],
      "metadata": {
        "colab": {
          "base_uri": "https://localhost:8080/"
        },
        "id": "ThF78rii7sEa",
        "outputId": "218cee8c-e272-405d-b55d-19d93ca279e2"
      },
      "execution_count": null,
      "outputs": [
        {
          "output_type": "stream",
          "name": "stdout",
          "text": [
            "<class 'pandas.core.frame.DataFrame'>\n",
            "RangeIndex: 45466 entries, 0 to 45465\n",
            "Data columns (total 24 columns):\n",
            " #   Column                 Non-Null Count  Dtype  \n",
            "---  ------                 --------------  -----  \n",
            " 0   adult                  45466 non-null  object \n",
            " 1   belongs_to_collection  4494 non-null   object \n",
            " 2   budget                 45466 non-null  object \n",
            " 3   genres                 45466 non-null  object \n",
            " 4   homepage               7782 non-null   object \n",
            " 5   id                     45466 non-null  object \n",
            " 6   imdb_id                45449 non-null  object \n",
            " 7   original_language      45455 non-null  object \n",
            " 8   original_title         45466 non-null  object \n",
            " 9   overview               44512 non-null  object \n",
            " 10  popularity             45461 non-null  object \n",
            " 11  poster_path            45080 non-null  object \n",
            " 12  production_companies   45463 non-null  object \n",
            " 13  production_countries   45463 non-null  object \n",
            " 14  release_date           45379 non-null  object \n",
            " 15  revenue                45460 non-null  float64\n",
            " 16  runtime                45203 non-null  float64\n",
            " 17  spoken_languages       45460 non-null  object \n",
            " 18  status                 45379 non-null  object \n",
            " 19  tagline                20412 non-null  object \n",
            " 20  title                  45460 non-null  object \n",
            " 21  video                  45460 non-null  object \n",
            " 22  vote_average           45460 non-null  float64\n",
            " 23  vote_count             45460 non-null  float64\n",
            "dtypes: float64(4), object(20)\n",
            "memory usage: 8.3+ MB\n"
          ]
        }
      ]
    },
    {
      "cell_type": "code",
      "source": [
        "df['budget']=pd.to_numeric(df['budget'],errors='coerce')\n",
        "df['budget'].dtype"
      ],
      "metadata": {
        "colab": {
          "base_uri": "https://localhost:8080/"
        },
        "id": "EJnO666x-8tK",
        "outputId": "4c4c0c96-ad8c-4208-90c3-be885ccd431b"
      },
      "execution_count": null,
      "outputs": [
        {
          "output_type": "execute_result",
          "data": {
            "text/plain": [
              "dtype('float64')"
            ]
          },
          "metadata": {},
          "execution_count": 6
        }
      ]
    },
    {
      "cell_type": "code",
      "source": [
        "df['release_date']=pd.to_numeric(df['release_date'],errors='coerce')\n",
        "df['release_date'].dtype"
      ],
      "metadata": {
        "colab": {
          "base_uri": "https://localhost:8080/"
        },
        "id": "enFjvtYqEVIn",
        "outputId": "25767e9b-9305-4aad-de1b-1218036a22cf"
      },
      "execution_count": null,
      "outputs": [
        {
          "output_type": "execute_result",
          "data": {
            "text/plain": [
              "dtype('float64')"
            ]
          },
          "metadata": {},
          "execution_count": 7
        }
      ]
    },
    {
      "cell_type": "code",
      "source": [
        "df['budget'].isna().value_counts()\n",
        "budget= df['budget'].loc[df['budget'].isnull() == False]\n",
        "budget_mean = budget.mean()\n",
        "df['budget'] = df['budget'].fillna(budget_mean)"
      ],
      "metadata": {
        "id": "u6tohnKJA8-Y"
      },
      "execution_count": null,
      "outputs": []
    },
    {
      "cell_type": "code",
      "source": [
        "df['revenue'].isna().value_counts()\n",
        "revenue= df['revenue'].loc[df['revenue'].isnull() == False]\n",
        "revenue_mean = revenue.mean()\n",
        "df['revenue'] = df['revenue'].fillna(revenue_mean)"
      ],
      "metadata": {
        "id": "qYQ0-hJzB0pl"
      },
      "execution_count": null,
      "outputs": []
    },
    {
      "cell_type": "code",
      "source": [
        "runtime= df['runtime'].loc[df['runtime'].isnull() == False]\n",
        "runtime_mean= runtime.mean()\n",
        "df['runtime'] = df['runtime'].fillna(runtime_mean)"
      ],
      "metadata": {
        "id": "O0shRgMHE0rZ"
      },
      "execution_count": null,
      "outputs": []
    },
    {
      "cell_type": "code",
      "source": [
        "vote_average= df['vote_average'].loc[df['vote_average'].isnull() == False]\n",
        "vote_average_mean= vote_average.mean()\n",
        "df['vote_average'] = df['vote_average'].fillna(vote_average_mean)"
      ],
      "metadata": {
        "id": "tItlca4FGEen"
      },
      "execution_count": null,
      "outputs": []
    },
    {
      "cell_type": "code",
      "source": [
        "vote_count= df['vote_count'].loc[df['vote_count'].isnull() == False]\n",
        "vote_count_mean= vote_count.mean()\n",
        "df['vote_count'] = df['vote_count'].fillna(vote_average_mean)"
      ],
      "metadata": {
        "id": "j_QjyyYBGTZD"
      },
      "execution_count": null,
      "outputs": []
    },
    {
      "cell_type": "code",
      "source": [
        "df = df[df['status'].notna()]\n",
        "df = df[df['belongs_to_collection'].notna()]\n",
        "df = df[df['homepage'].notna()]\n",
        "df = df[df['imdb_id'].notna()]\n",
        "df = df[df['overview'].notna()]\n",
        "df = df[df['tagline'].notna()]"
      ],
      "metadata": {
        "id": "92yi_MSnD0Eu"
      },
      "execution_count": null,
      "outputs": []
    },
    {
      "cell_type": "code",
      "source": [
        "df.isna().sum()"
      ],
      "metadata": {
        "colab": {
          "base_uri": "https://localhost:8080/"
        },
        "id": "KCKo5Nl4Fvna",
        "outputId": "b19209c0-a4c8-4975-cdb8-68909b11fdca"
      },
      "execution_count": null,
      "outputs": [
        {
          "output_type": "execute_result",
          "data": {
            "text/plain": [
              "adult                      0\n",
              "belongs_to_collection      0\n",
              "budget                     0\n",
              "genres                     0\n",
              "homepage                   0\n",
              "id                         0\n",
              "imdb_id                    0\n",
              "original_language          0\n",
              "original_title             0\n",
              "overview                   0\n",
              "popularity                 0\n",
              "poster_path                0\n",
              "production_companies       0\n",
              "production_countries       0\n",
              "release_date             693\n",
              "revenue                    0\n",
              "runtime                    0\n",
              "spoken_languages           0\n",
              "status                     0\n",
              "tagline                    0\n",
              "title                      0\n",
              "video                      0\n",
              "vote_average               0\n",
              "vote_count                 0\n",
              "dtype: int64"
            ]
          },
          "metadata": {},
          "execution_count": 14
        }
      ]
    },
    {
      "cell_type": "code",
      "source": [
        "df.info()"
      ],
      "metadata": {
        "colab": {
          "base_uri": "https://localhost:8080/"
        },
        "id": "SRERAhUCHX8x",
        "outputId": "b764d8ef-85d5-42b5-8495-532d51855f53"
      },
      "execution_count": null,
      "outputs": [
        {
          "output_type": "stream",
          "name": "stdout",
          "text": [
            "<class 'pandas.core.frame.DataFrame'>\n",
            "Int64Index: 693 entries, 9 to 45029\n",
            "Data columns (total 24 columns):\n",
            " #   Column                 Non-Null Count  Dtype  \n",
            "---  ------                 --------------  -----  \n",
            " 0   adult                  693 non-null    object \n",
            " 1   belongs_to_collection  693 non-null    object \n",
            " 2   budget                 693 non-null    float64\n",
            " 3   genres                 693 non-null    object \n",
            " 4   homepage               693 non-null    object \n",
            " 5   id                     693 non-null    object \n",
            " 6   imdb_id                693 non-null    object \n",
            " 7   original_language      693 non-null    object \n",
            " 8   original_title         693 non-null    object \n",
            " 9   overview               693 non-null    object \n",
            " 10  popularity             693 non-null    object \n",
            " 11  poster_path            693 non-null    object \n",
            " 12  production_companies   693 non-null    object \n",
            " 13  production_countries   693 non-null    object \n",
            " 14  release_date           0 non-null      float64\n",
            " 15  revenue                693 non-null    float64\n",
            " 16  runtime                693 non-null    float64\n",
            " 17  spoken_languages       693 non-null    object \n",
            " 18  status                 693 non-null    object \n",
            " 19  tagline                693 non-null    object \n",
            " 20  title                  693 non-null    object \n",
            " 21  video                  693 non-null    object \n",
            " 22  vote_average           693 non-null    float64\n",
            " 23  vote_count             693 non-null    float64\n",
            "dtypes: float64(6), object(18)\n",
            "memory usage: 135.4+ KB\n"
          ]
        }
      ]
    },
    {
      "cell_type": "markdown",
      "source": [
        "### Memeriksa Korelasi"
      ],
      "metadata": {
        "id": "FbJaTDV0Hxk0"
      }
    },
    {
      "cell_type": "code",
      "source": [
        "#plotting heatmap for overall data set\n",
        "sns.heatmap(df.corr(), square=True, cmap='RdYlGn')"
      ],
      "metadata": {
        "colab": {
          "base_uri": "https://localhost:8080/",
          "height": 344
        },
        "id": "9wFOwRFgH1fQ",
        "outputId": "d9cb2b7f-9c82-42b4-9ab9-10d6416b34cd"
      },
      "execution_count": null,
      "outputs": [
        {
          "output_type": "execute_result",
          "data": {
            "text/plain": [
              "<matplotlib.axes._subplots.AxesSubplot at 0x7fb324226410>"
            ]
          },
          "metadata": {},
          "execution_count": 16
        },
        {
          "output_type": "display_data",
          "data": {
            "text/plain": [
              "<Figure size 432x288 with 2 Axes>"
            ],
            "image/png": "[encoded data removed]"
          },
          "metadata": {
            "needs_background": "light"
          }
        }
      ]
    },
    {
      "cell_type": "markdown",
      "source": [
        "### Korelasi Budget dengan Revenue"
      ],
      "metadata": {
        "id": "DHGufm4oIQLM"
      }
    },
    {
      "cell_type": "code",
      "source": [
        "sns.lmplot(x = 'budget', y = 'revenue', data = df)"
      ],
      "metadata": {
        "id": "C4RrRBi6IPXB",
        "colab": {
          "base_uri": "https://localhost:8080/",
          "height": 386
        },
        "outputId": "5c5232f5-1684-4c6d-a5ff-1520505ece87"
      },
      "execution_count": null,
      "outputs": [
        {
          "output_type": "execute_result",
          "data": {
            "text/plain": [
              "<seaborn.axisgrid.FacetGrid at 0x7fb31e9ea510>"
            ]
          },
          "metadata": {},
          "execution_count": 17
        },
        {
          "output_type": "display_data",
          "data": {
            "text/plain": [
              "<Figure size 360x360 with 1 Axes>"
            ],
            "image/png": "[encoded data removed]"
          },
          "metadata": {
            "needs_background": "light"
          }
        }
      ]
    },
    {
      "cell_type": "markdown",
      "source": [
        "### Proses Training dan Membuat Model untuk Radio dan Sales\n",
        "Selanjutnya, kita akan melakukan training untuk membuat modelnya dari Budget dan Revenue."
      ],
      "metadata": {
        "id": "-z8IGfdt7ufZ"
      }
    },
    {
      "cell_type": "code",
      "source": [
        "# Persiapkan data \n",
        "X = df[['budget']]\n",
        "y = df[['revenue']]"
      ],
      "metadata": {
        "id": "wIdieywV7p-a"
      },
      "execution_count": null,
      "outputs": []
    },
    {
      "cell_type": "code",
      "source": [
        "# Splitting the dataset into train and test sets\n",
        "from sklearn.model_selection import train_test_split\n",
        "\n",
        "X_train, X_test, y_train, y_test = train_test_split(\n",
        "    X, y, test_size=0.3, random_state=10)"
      ],
      "metadata": {
        "id": "1KAa7MTk76Os"
      },
      "execution_count": null,
      "outputs": []
    },
    {
      "cell_type": "code",
      "source": [
        "#Training a Linear Regression Model\n",
        "from sklearn.linear_model import LinearRegression\n",
        "regressor_budget = LinearRegression()\n",
        "# Lakukan training dari X train dan y train\n",
        "regressor_budget.fit(X_train, y_train)"
      ],
      "metadata": {
        "colab": {
          "base_uri": "https://localhost:8080/"
        },
        "id": "d5guW8228SZO",
        "outputId": "1767ece9-3801-46b1-e117-3584db0e408d"
      },
      "execution_count": null,
      "outputs": [
        {
          "output_type": "execute_result",
          "data": {
            "text/plain": [
              "LinearRegression()"
            ]
          },
          "metadata": {},
          "execution_count": 25
        }
      ]
    },
    {
      "cell_type": "markdown",
      "source": [
        "## Uji coba budget dan revenue"
      ],
      "metadata": {
        "id": "XtPxSwUC8C8k"
      }
    },
    {
      "cell_type": "code",
      "source": [
        "# Dapetin coef dan intercept buat persamaan regresi (model)\n",
        "regressor_budget.coef_, regressor_budget.intercept_"
      ],
      "metadata": {
        "colab": {
          "base_uri": "https://localhost:8080/"
        },
        "id": "RzobyCWM8A46",
        "outputId": "df8d5997-de7d-4e67-dd05-05d63d0e5716"
      },
      "execution_count": null,
      "outputs": [
        {
          "output_type": "execute_result",
          "data": {
            "text/plain": [
              "(array([[4.01741732]]), array([23730222.64941856]))"
            ]
          },
          "metadata": {},
          "execution_count": 32
        }
      ]
    },
    {
      "cell_type": "code",
      "source": [
        "# Asumsikan kita ingin mengeluarkan budget 16 juta\n",
        "# berapa prediksi revenue yang kita peroleh?\n",
        "x = 16000000\n",
        "y = 4.01741732*x + 23730222.64941856\n",
        "print(y)"
      ],
      "metadata": {
        "colab": {
          "base_uri": "https://localhost:8080/"
        },
        "id": "4gqHccw_9FrS",
        "outputId": "95cfb737-3140-401d-fad5-03f08eab7361"
      },
      "execution_count": null,
      "outputs": [
        {
          "output_type": "stream",
          "name": "stdout",
          "text": [
            "88008899.76941855\n"
          ]
        }
      ]
    },
    {
      "cell_type": "markdown",
      "source": [
        "Uji coba otmatis:"
      ],
      "metadata": {
        "id": "YrOnqwjS91Nl"
      }
    },
    {
      "cell_type": "code",
      "source": [
        "regressor_budget.predict(X_test)"
      ],
      "metadata": {
        "colab": {
          "base_uri": "https://localhost:8080/"
        },
        "id": "8RuX_NTm94S-",
        "outputId": "ec71e0f3-b962-4bd6-e2dc-5bc6f60a5fda"
      },
      "execution_count": null,
      "outputs": [
        {
          "output_type": "execute_result",
          "data": {
            "text/plain": [
              "array([[4.70312431e+07],\n",
              "       [2.37302226e+07],\n",
              "       [1.02808455e+09],\n",
              "       [1.92461750e+08],\n",
              "       [2.37302226e+07],\n",
              "       [3.65210695e+08],\n",
              "       [2.56740427e+08],\n",
              "       [8.80088998e+07],\n",
              "       [1.36217908e+08],\n",
              "       [1.76392081e+08],\n",
              "       [6.26342821e+08],\n",
              "       [6.34377656e+08],\n",
              "       [9.60437345e+07],\n",
              "       [1.04078569e+08],\n",
              "       [4.78347266e+07],\n",
              "       [1.16130821e+08],\n",
              "       [1.04078569e+08],\n",
              "       [2.37302226e+07],\n",
              "       [5.18521439e+07],\n",
              "       [6.79218132e+07],\n",
              "       [1.36217908e+08],\n",
              "       [8.39914825e+07],\n",
              "       [2.37302226e+07],\n",
              "       [3.57824746e+07],\n",
              "       [2.37302226e+07],\n",
              "       [3.65210695e+08],\n",
              "       [2.37302226e+07],\n",
              "       [2.37302226e+07],\n",
              "       [7.06691168e+08],\n",
              "       [2.37302226e+07],\n",
              "       [3.97998919e+07],\n",
              "       [2.37302226e+07],\n",
              "       [6.79218132e+07],\n",
              "       [1.24165656e+08],\n",
              "       [1.72374664e+08],\n",
              "       [2.12548837e+08],\n",
              "       [3.77911833e+07],\n",
              "       [3.41106191e+08],\n",
              "       [3.37737660e+07],\n",
              "       [4.13419703e+08],\n",
              "       [7.19392305e+07],\n",
              "       [2.16566254e+08],\n",
              "       [1.04078569e+08],\n",
              "       [3.65210695e+08],\n",
              "       [2.37302226e+07],\n",
              "       [9.07562034e+08],\n",
              "       [3.25036522e+08],\n",
              "       [2.37326331e+07],\n",
              "       [1.84426916e+08],\n",
              "       [2.64775262e+08],\n",
              "       [2.37302226e+07],\n",
              "       [4.65646128e+08],\n",
              "       [2.37302226e+07],\n",
              "       [1.02808455e+09],\n",
              "       [2.37302226e+07],\n",
              "       [1.84426916e+08],\n",
              "       [7.66952428e+08],\n",
              "       [2.64775262e+08],\n",
              "       [1.44252742e+08],\n",
              "       [3.04949435e+08],\n",
              "       [3.45772494e+07],\n",
              "       [2.37302226e+07],\n",
              "       [2.37302226e+07],\n",
              "       [1.20148238e+08],\n",
              "       [1.24165656e+08],\n",
              "       [2.37302226e+07],\n",
              "       [2.37302226e+07],\n",
              "       [2.37302226e+07],\n",
              "       [2.37302226e+07],\n",
              "       [2.37302226e+07],\n",
              "       [1.64339829e+08],\n",
              "       [8.27213687e+08],\n",
              "       [1.00061152e+08],\n",
              "       [5.25907388e+08],\n",
              "       [2.37302226e+07],\n",
              "       [2.37302226e+07],\n",
              "       [2.37302226e+07],\n",
              "       [4.05384868e+08],\n",
              "       [1.72374664e+08],\n",
              "       [2.37302226e+07],\n",
              "       [2.64775262e+08],\n",
              "       [6.39043959e+07],\n",
              "       [2.37503097e+07],\n",
              "       [7.06691168e+08],\n",
              "       [1.00061152e+08],\n",
              "       [1.84426916e+08],\n",
              "       [4.30138258e+07],\n",
              "       [6.26342821e+08],\n",
              "       [2.37302226e+07],\n",
              "       [2.37302226e+07],\n",
              "       [1.84426916e+08],\n",
              "       [1.00799747e+09],\n",
              "       [3.97998919e+07],\n",
              "       [7.46865341e+08],\n",
              "       [6.79218132e+07],\n",
              "       [2.37302226e+07],\n",
              "       [9.20263172e+07],\n",
              "       [2.37302226e+07],\n",
              "       [7.19392305e+07],\n",
              "       [7.19392305e+07],\n",
              "       [2.37302226e+07],\n",
              "       [2.37302226e+07],\n",
              "       [6.26342821e+08],\n",
              "       [2.37302226e+07],\n",
              "       [2.37302226e+07],\n",
              "       [2.69441565e+07],\n",
              "       [5.58695612e+07],\n",
              "       [6.79218132e+07],\n",
              "       [1.84426916e+08],\n",
              "       [3.57824746e+07],\n",
              "       [2.37302226e+07],\n",
              "       [1.04078569e+08],\n",
              "       [3.77911833e+07],\n",
              "       [7.59566479e+07],\n",
              "       [3.21019105e+08],\n",
              "       [2.37302226e+07],\n",
              "       [2.37302226e+07],\n",
              "       [7.66952428e+08],\n",
              "       [6.66516994e+08],\n",
              "       [2.37302226e+07],\n",
              "       [2.37302226e+07],\n",
              "       [2.37302226e+07],\n",
              "       [2.37302226e+07],\n",
              "       [7.59566479e+07],\n",
              "       [2.37302226e+07],\n",
              "       [2.37302226e+07],\n",
              "       [2.12548837e+08],\n",
              "       [4.65646128e+08],\n",
              "       [8.39914825e+07],\n",
              "       [2.20583672e+08],\n",
              "       [2.37302226e+07],\n",
              "       [7.07965887e+07],\n",
              "       [2.49354478e+07],\n",
              "       [2.89528652e+07],\n",
              "       [1.28183073e+08],\n",
              "       [1.02808455e+09],\n",
              "       [4.38173093e+07],\n",
              "       [2.37302226e+07],\n",
              "       [8.27213687e+08],\n",
              "       [2.37302226e+07],\n",
              "       [1.02808455e+09],\n",
              "       [2.24601089e+08],\n",
              "       [1.36217908e+08],\n",
              "       [4.85733215e+08],\n",
              "       [3.25036522e+08],\n",
              "       [2.64775262e+08],\n",
              "       [2.37302226e+07],\n",
              "       [1.02808455e+09],\n",
              "       [2.75467691e+07],\n",
              "       [1.06825873e+09],\n",
              "       [2.37302226e+07],\n",
              "       [3.46493548e+08],\n",
              "       [2.04514002e+08],\n",
              "       [5.05820301e+08],\n",
              "       [7.38830506e+08],\n",
              "       [6.06255735e+08],\n",
              "       [3.28899341e+07],\n",
              "       [2.71771667e+07],\n",
              "       [1.64339829e+08],\n",
              "       [2.37302226e+07],\n",
              "       [4.25471955e+08],\n",
              "       [8.27213687e+08],\n",
              "       [5.05820301e+08],\n",
              "       [3.85297782e+08],\n",
              "       [5.45994475e+08],\n",
              "       [2.04514002e+08],\n",
              "       [2.77476400e+07],\n",
              "       [8.39914825e+07],\n",
              "       [1.04078569e+08],\n",
              "       [2.37302226e+07],\n",
              "       [1.60322412e+08],\n",
              "       [2.60757845e+08],\n",
              "       [3.25036522e+08],\n",
              "       [4.58260179e+07],\n",
              "       [1.72374664e+08],\n",
              "       [2.64775262e+08],\n",
              "       [3.45123609e+08],\n",
              "       [6.86604081e+08],\n",
              "       [1.76392081e+08],\n",
              "       [4.85733215e+08],\n",
              "       [3.85297782e+08],\n",
              "       [2.37302226e+07],\n",
              "       [5.45994475e+08],\n",
              "       [2.37302226e+07],\n",
              "       [4.38173093e+07],\n",
              "       [4.18086006e+07],\n",
              "       [5.25907388e+08],\n",
              "       [3.45123609e+08],\n",
              "       [2.37302226e+07],\n",
              "       [2.37302226e+07],\n",
              "       [6.26342821e+08],\n",
              "       [2.37302226e+07],\n",
              "       [2.37302226e+07],\n",
              "       [3.65210695e+08],\n",
              "       [1.00061152e+08],\n",
              "       [2.37302226e+07],\n",
              "       [3.04949435e+08],\n",
              "       [2.37302226e+07],\n",
              "       [6.26342821e+08],\n",
              "       [3.77911833e+07],\n",
              "       [1.28183073e+08],\n",
              "       [2.97563486e+07],\n",
              "       [6.22325404e+08],\n",
              "       [2.37302226e+07],\n",
              "       [5.82151231e+08],\n",
              "       [6.79218132e+07],\n",
              "       [2.37302226e+07],\n",
              "       [1.02808455e+09]])"
            ]
          },
          "metadata": {},
          "execution_count": 40
        }
      ]
    },
    {
      "cell_type": "markdown",
      "source": [
        "## Evaluasi Model"
      ],
      "metadata": {
        "id": "nPxYm2vm_Rp4"
      }
    },
    {
      "cell_type": "code",
      "source": [
        "#check prediction score/accuracy\n",
        "regressor_budget.score(X_test, y_test)"
      ],
      "metadata": {
        "colab": {
          "base_uri": "https://localhost:8080/"
        },
        "id": "8baIXNpdAPws",
        "outputId": "f4801e61-57b6-4741-a5d2-75b7be8f5439"
      },
      "execution_count": null,
      "outputs": [
        {
          "output_type": "execute_result",
          "data": {
            "text/plain": [
              "0.7228548196698258"
            ]
          },
          "metadata": {},
          "execution_count": 41
        }
      ]
    },
    {
      "cell_type": "code",
      "source": [
        "# predict the y values\n",
        "y_pred=regressor_budget.predict(X_test)\n",
        "\n",
        "# a data frame with actual and predicted values of y\n",
        "evaluate = pd.DataFrame({'actual revenue': y_test.values.flatten(), 'predected revenue': y_pred.flatten()})\n",
        "evaluate.head(10)"
      ],
      "metadata": {
        "colab": {
          "base_uri": "https://localhost:8080/",
          "height": 363
        },
        "id": "QvG9IjmN_s0f",
        "outputId": "edb8da46-5cd3-4ae7-fe91-65b409858bb2"
      },
      "execution_count": null,
      "outputs": [
        {
          "output_type": "execute_result",
          "data": {
            "text/plain": [
              "   actual revenue  predected revenue\n",
              "0      33395426.0       4.703124e+07\n",
              "1             0.0       2.373022e+07\n",
              "2     956019788.0       1.028085e+09\n",
              "3     201585328.0       1.924618e+08\n",
              "4             0.0       2.373022e+07\n",
              "5     363164265.0       3.652107e+08\n",
              "6     783112979.0       2.567404e+08\n",
              "7      68411275.0       8.800890e+07\n",
              "8     333000000.0       1.362179e+08\n",
              "9      29907685.0       1.763921e+08"
            ],
            "text/html": [
              "\n",
              "  <div id=\"df-897a5d47-79fc-4c81-a6b9-9a5adf1074e7\">\n",
              "    <div class=\"colab-df-container\">\n",
              "      <div>\n",
              "<style scoped>\n",
              "    .dataframe tbody tr th:only-of-type {\n",
              "        vertical-align: middle;\n",
              "    }\n",
              "\n",
              "    .dataframe tbody tr th {\n",
              "        vertical-align: top;\n",
              "    }\n",
              "\n",
              "    .dataframe thead th {\n",
              "        text-align: right;\n",
              "    }\n",
              "</style>\n",
              "<table border=\"1\" class=\"dataframe\">\n",
              "  <thead>\n",
              "    <tr style=\"text-align: right;\">\n",
              "      <th></th>\n",
              "      <th>actual revenue</th>\n",
              "      <th>predected revenue</th>\n",
              "    </tr>\n",
              "  </thead>\n",
              "  <tbody>\n",
              "    <tr>\n",
              "      <th>0</th>\n",
              "      <td>33395426.0</td>\n",
              "      <td>4.703124e+07</td>\n",
              "    </tr>\n",
              "    <tr>\n",
              "      <th>1</th>\n",
              "      <td>0.0</td>\n",
              "      <td>2.373022e+07</td>\n",
              "    </tr>\n",
              "    <tr>\n",
              "      <th>2</th>\n",
              "      <td>956019788.0</td>\n",
              "      <td>1.028085e+09</td>\n",
              "    </tr>\n",
              "    <tr>\n",
              "      <th>3</th>\n",
              "      <td>201585328.0</td>\n",
              "      <td>1.924618e+08</td>\n",
              "    </tr>\n",
              "    <tr>\n",
              "      <th>4</th>\n",
              "      <td>0.0</td>\n",
              "      <td>2.373022e+07</td>\n",
              "    </tr>\n",
              "    <tr>\n",
              "      <th>5</th>\n",
              "      <td>363164265.0</td>\n",
              "      <td>3.652107e+08</td>\n",
              "    </tr>\n",
              "    <tr>\n",
              "      <th>6</th>\n",
              "      <td>783112979.0</td>\n",
              "      <td>2.567404e+08</td>\n",
              "    </tr>\n",
              "    <tr>\n",
              "      <th>7</th>\n",
              "      <td>68411275.0</td>\n",
              "      <td>8.800890e+07</td>\n",
              "    </tr>\n",
              "    <tr>\n",
              "      <th>8</th>\n",
              "      <td>333000000.0</td>\n",
              "      <td>1.362179e+08</td>\n",
              "    </tr>\n",
              "    <tr>\n",
              "      <th>9</th>\n",
              "      <td>29907685.0</td>\n",
              "      <td>1.763921e+08</td>\n",
              "    </tr>\n",
              "  </tbody>\n",
              "</table>\n",
              "</div>\n",
              "      <button class=\"colab-df-convert\" onclick=\"convertToInteractive('df-897a5d47-79fc-4c81-a6b9-9a5adf1074e7')\"\n",
              "              title=\"Convert this dataframe to an interactive table.\"\n",
              "              style=\"display:none;\">\n",
              "        \n",
              "  <svg xmlns=\"http://www.w3.org/2000/svg\" height=\"24px\"viewBox=\"0 0 24 24\"\n",
              "       width=\"24px\">\n",
              "    <path d=\"M0 0h24v24H0V0z\" fill=\"none\"/>\n",
              "    <path d=\"M18.56 5.44l.94 2.06.94-2.06 2.06-.94-2.06-.94-.94-2.06-.94 2.06-2.06.94zm-11 1L8.5 8.5l.94-2.06 2.06-.94-2.06-.94L8.5 2.5l-.94 2.06-2.06.94zm10 10l.94 2.06.94-2.06 2.06-.94-2.06-.94-.94-2.06-.94 2.06-2.06.94z\"/><path d=\"M17.41 7.96l-1.37-1.37c-.4-.4-.92-.59-1.43-.59-.52 0-1.04.2-1.43.59L10.3 9.45l-7.72 7.72c-.78.78-.78 2.05 0 2.83L4 21.41c.39.39.9.59 1.41.59.51 0 1.02-.2 1.41-.59l7.78-7.78 2.81-2.81c.8-.78.8-2.07 0-2.86zM5.41 20L4 18.59l7.72-7.72 1.47 1.35L5.41 20z\"/>\n",
              "  </svg>\n",
              "      </button>\n",
              "      \n",
              "  <style>\n",
              "    .colab-df-container {\n",
              "      display:flex;\n",
              "      flex-wrap:wrap;\n",
              "      gap: 12px;\n",
              "    }\n",
              "\n",
              "    .colab-df-convert {\n",
              "      background-color: #E8F0FE;\n",
              "      border: none;\n",
              "      border-radius: 50%;\n",
              "      cursor: pointer;\n",
              "      display: none;\n",
              "      fill: #1967D2;\n",
              "      height: 32px;\n",
              "      padding: 0 0 0 0;\n",
              "      width: 32px;\n",
              "    }\n",
              "\n",
              "    .colab-df-convert:hover {\n",
              "      background-color: #E2EBFA;\n",
              "      box-shadow: 0px 1px 2px rgba(60, 64, 67, 0.3), 0px 1px 3px 1px rgba(60, 64, 67, 0.15);\n",
              "      fill: #174EA6;\n",
              "    }\n",
              "\n",
              "    [theme=dark] .colab-df-convert {\n",
              "      background-color: #3B4455;\n",
              "      fill: #D2E3FC;\n",
              "    }\n",
              "\n",
              "    [theme=dark] .colab-df-convert:hover {\n",
              "      background-color: #434B5C;\n",
              "      box-shadow: 0px 1px 3px 1px rgba(0, 0, 0, 0.15);\n",
              "      filter: drop-shadow(0px 1px 2px rgba(0, 0, 0, 0.3));\n",
              "      fill: #FFFFFF;\n",
              "    }\n",
              "  </style>\n",
              "\n",
              "      <script>\n",
              "        const buttonEl =\n",
              "          document.querySelector('#df-897a5d47-79fc-4c81-a6b9-9a5adf1074e7 button.colab-df-convert');\n",
              "        buttonEl.style.display =\n",
              "          google.colab.kernel.accessAllowed ? 'block' : 'none';\n",
              "\n",
              "        async function convertToInteractive(key) {\n",
              "          const element = document.querySelector('#df-897a5d47-79fc-4c81-a6b9-9a5adf1074e7');\n",
              "          const dataTable =\n",
              "            await google.colab.kernel.invokeFunction('convertToInteractive',\n",
              "                                                     [key], {});\n",
              "          if (!dataTable) return;\n",
              "\n",
              "          const docLinkHtml = 'Like what you see? Visit the ' +\n",
              "            '<a target=\"_blank\" href=https://colab.research.google.com/notebooks/data_table.ipynb>data table notebook</a>'\n",
              "            + ' to learn more about interactive tables.';\n",
              "          element.innerHTML = '';\n",
              "          dataTable['output_type'] = 'display_data';\n",
              "          await google.colab.output.renderOutput(dataTable, element);\n",
              "          const docLink = document.createElement('div');\n",
              "          docLink.innerHTML = docLinkHtml;\n",
              "          element.appendChild(docLink);\n",
              "        }\n",
              "      </script>\n",
              "    </div>\n",
              "  </div>\n",
              "  "
            ]
          },
          "metadata": {},
          "execution_count": 42
        }
      ]
    },
    {
      "cell_type": "code",
      "source": [
        "evaluate.head(10).plot(kind = 'bar')"
      ],
      "metadata": {
        "colab": {
          "base_uri": "https://localhost:8080/",
          "height": 290
        },
        "id": "s2Eje9YqAlwt",
        "outputId": "49459087-4ec6-4396-f577-17b49cec9725"
      },
      "execution_count": null,
      "outputs": [
        {
          "output_type": "execute_result",
          "data": {
            "text/plain": [
              "<matplotlib.axes._subplots.AxesSubplot at 0x7fb322482790>"
            ]
          },
          "metadata": {},
          "execution_count": 43
        },
        {
          "output_type": "display_data",
          "data": {
            "text/plain": [
              "<Figure size 432x288 with 1 Axes>"
            ],
            "image/png": "[encoded data removed]"
          },
          "metadata": {
            "needs_background": "light"
          }
        }
      ]
    },
    {
      "cell_type": "markdown",
      "source": [
        "Perhatikan bahwa sebagian besar nilai prediksi ada yang lebih rendah dari nilai sebenarnya dan ada yang lebih tinggi dari nilai sebenarnya."
      ],
      "metadata": {
        "id": "x47hSgAqBHdM"
      }
    },
    {
      "cell_type": "markdown",
      "source": [
        "## Evaluasi"
      ],
      "metadata": {
        "id": "htwNDDlKA1el"
      }
    },
    {
      "cell_type": "code",
      "source": [
        "# Scoring the model\n",
        "from sklearn.metrics import r2_score, mean_squared_error,mean_absolute_error\n",
        "# R2 Score\n",
        "print(f\"R2 score: {r2_score(y_test, y_pred)}\")\n",
        "# Mean Squared Error (MSE)\n",
        "print(f\"MSE score: {mean_squared_error(y_test, y_pred)}\")"
      ],
      "metadata": {
        "colab": {
          "base_uri": "https://localhost:8080/"
        },
        "id": "01MFmthM_SLn",
        "outputId": "44f28e98-4888-406e-b877-0002dde1094b"
      },
      "execution_count": null,
      "outputs": [
        {
          "output_type": "stream",
          "name": "stdout",
          "text": [
            "R2 score: 0.7228548196698258\n",
            "MSE score: 2.5739726859093052e+16\n"
          ]
        }
      ]
    },
    {
      "cell_type": "markdown",
      "source": [
        "### Plotting Hasil Prediksi"
      ],
      "metadata": {
        "id": "GcbtagHm-HfB"
      }
    },
    {
      "cell_type": "code",
      "source": [
        "y_predict = regressor_radio.predict(X_test)\n",
        "plt.scatter(X_test, y_test)\n",
        "plt.plot(X_test, y_predict, c='r')\n",
        "plt.xlabel('Budget')\n",
        "plt.ylabel('Revenue')\n",
        "plt.title('Plot budget vs revenue')"
      ],
      "metadata": {
        "colab": {
          "base_uri": "https://localhost:8080/",
          "height": 312
        },
        "id": "bYF6DxC2-Kqc",
        "outputId": "542bfba7-9708-4107-8e92-ebae1a9d5b8a"
      },
      "execution_count": null,
      "outputs": [
        {
          "output_type": "execute_result",
          "data": {
            "text/plain": [
              "Text(0.5, 1.0, 'Plot budget vs revenue')"
            ]
          },
          "metadata": {},
          "execution_count": 34
        },
        {
          "output_type": "display_data",
          "data": {
            "text/plain": [
              "<Figure size 432x288 with 1 Axes>"
            ],
            "image/png": "[encoded data removed]"
          },
          "metadata": {
            "needs_background": "light"
          }
        }
      ]
    },
    {
      "cell_type": "markdown",
      "source": [
        "Hasilnya menunjukkan bahwa hasil pengujian juga menunjukkan korelasi yang mirip dengan korelasi sebelumnya."
      ],
      "metadata": {
        "id": "wa6zUEHPBNQq"
      }
    }
  ]
}