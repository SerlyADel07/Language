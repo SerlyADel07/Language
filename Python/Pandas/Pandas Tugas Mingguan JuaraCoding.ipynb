{
  "nbformat": 4,
  "nbformat_minor": 0,
  "metadata": {
    "colab": {
      "name": "Salinan dari Soal Minggu 3.ipynb",
      "provenance": [],
      "collapsed_sections": []
    },
    "kernelspec": {
      "name": "python3",
      "display_name": "Python 3"
    },
    "language_info": {
      "name": "python"
    }
  },
  "cells": [
    {
      "cell_type": "code",
      "execution_count": null,
      "metadata": {
        "id": "0NH_M9A0yFNa"
      },
      "outputs": [],
      "source": [
        "import pandas as pd"
      ]
    },
    {
      "cell_type": "code",
      "source": [
        "df = pd.read_csv(\"https://gist.githubusercontent.com/yanwarsolah/c1df024de2ca2ef895b79ab21a55ee78/raw/50b7dc48345618e3d7d111347bde02cd6b287ea7/data_sales_week3.csv\")\n",
        "print(df)"
      ],
      "metadata": {
        "colab": {
          "base_uri": "https://localhost:8080/"
        },
        "id": "xzr1-Z9W7wCl",
        "outputId": "2898d567-261c-430a-be83-8006afc52ccb"
      },
      "execution_count": null,
      "outputs": [
        {
          "output_type": "stream",
          "name": "stdout",
          "text": [
            "      ORDERNUMBER  QUANTITYORDERED  PRICEEACH  ORDERLINENUMBER    SALES  \\\n",
            "0           10107               30      95.70                2  2871.00   \n",
            "1           10121               34      81.35                5  2765.90   \n",
            "2           10134               41      94.74                2  3884.34   \n",
            "3           10145               45      83.26                6  3746.70   \n",
            "4           10159               49     100.00               14  5205.27   \n",
            "...           ...              ...        ...              ...      ...   \n",
            "2818        10350               20     100.00               15  2244.40   \n",
            "2819        10373               29     100.00                1  3978.51   \n",
            "2820        10386               43     100.00                4  5417.57   \n",
            "2821        10397               34      62.24                1  2116.16   \n",
            "2822        10414               47      65.52                9  3079.44   \n",
            "\n",
            "            ORDERDATE    STATUS  QTR_ID  MONTH_ID  YEAR_ID  ...  \\\n",
            "0      2/24/2003 0:00   Shipped       1         2     2003  ...   \n",
            "1       5/7/2003 0:00   Shipped       2         5     2003  ...   \n",
            "2       7/1/2003 0:00   Shipped       3         7     2003  ...   \n",
            "3      8/25/2003 0:00   Shipped       3         8     2003  ...   \n",
            "4     10/10/2003 0:00   Shipped       4        10     2003  ...   \n",
            "...               ...       ...     ...       ...      ...  ...   \n",
            "2818   12/2/2004 0:00   Shipped       4        12     2004  ...   \n",
            "2819   1/31/2005 0:00   Shipped       1         1     2005  ...   \n",
            "2820    3/1/2005 0:00  Resolved       1         3     2005  ...   \n",
            "2821   3/28/2005 0:00   Shipped       1         3     2005  ...   \n",
            "2822    5/6/2005 0:00   On Hold       2         5     2005  ...   \n",
            "\n",
            "                       ADDRESSLINE1  ADDRESSLINE2           CITY STATE  \\\n",
            "0           897 Long Airport Avenue           NaN            NYC    NY   \n",
            "1                59 rue de l'Abbaye           NaN          Reims   NaN   \n",
            "2     27 rue du Colonel Pierre Avia           NaN          Paris   NaN   \n",
            "3                78934 Hillside Dr.           NaN       Pasadena    CA   \n",
            "4                   7734 Strong St.           NaN  San Francisco    CA   \n",
            "...                             ...           ...            ...   ...   \n",
            "2818             C/ Moralzarzal, 86           NaN         Madrid   NaN   \n",
            "2819                    Torikatu 38           NaN           Oulu   NaN   \n",
            "2820             C/ Moralzarzal, 86           NaN         Madrid   NaN   \n",
            "2821          1 rue Alsace-Lorraine           NaN       Toulouse   NaN   \n",
            "2822             8616 Spinnaker Dr.           NaN         Boston    MA   \n",
            "\n",
            "     POSTALCODE  COUNTRY TERRITORY CONTACTLASTNAME CONTACTFIRSTNAME DEALSIZE  \n",
            "0         10022      USA       NaN              Yu             Kwai    Small  \n",
            "1         51100   France      EMEA         Henriot             Paul    Small  \n",
            "2         75508   France      EMEA        Da Cunha           Daniel   Medium  \n",
            "3         90003      USA       NaN           Young            Julie   Medium  \n",
            "4           NaN      USA       NaN           Brown            Julie   Medium  \n",
            "...         ...      ...       ...             ...              ...      ...  \n",
            "2818      28034    Spain      EMEA          Freyre            Diego    Small  \n",
            "2819      90110  Finland      EMEA       Koskitalo           Pirkko   Medium  \n",
            "2820      28034    Spain      EMEA          Freyre            Diego   Medium  \n",
            "2821      31000   France      EMEA          Roulet          Annette    Small  \n",
            "2822      51003      USA       NaN         Yoshido             Juri   Medium  \n",
            "\n",
            "[2823 rows x 25 columns]\n"
          ]
        }
      ]
    },
    {
      "cell_type": "markdown",
      "source": [
        "### 1. Dapatkan nilai penjualan tertinggi untuk negara USA kota San Francisco?"
      ],
      "metadata": {
        "id": "wAczUgjN8w2X"
      }
    },
    {
      "cell_type": "code",
      "source": [
        "df_usa_max = df[(df.COUNTRY == 'USA') & (df.CITY == 'San Francisco')]['SALES']\n",
        "print(df_usa_max.max())"
      ],
      "metadata": {
        "colab": {
          "base_uri": "https://localhost:8080/"
        },
        "id": "VM2H3XDT8uOT",
        "outputId": "da1c284e-2ec4-46eb-83f7-752439170533"
      },
      "execution_count": null,
      "outputs": [
        {
          "output_type": "stream",
          "name": "stdout",
          "text": [
            "11336.7\n"
          ]
        }
      ]
    },
    {
      "cell_type": "markdown",
      "source": [
        "### 2.Dapatkan nilai jumlah pemesanan (QUANTITYORDERED), harga (PRICEEACH) dan penjualan (SALES) tertinggi berdasarkan negara (COUNTRY) Spain yang statusnya (STATUS) bukan Disputed pada tahun 2003."
      ],
      "metadata": {
        "id": "tKKduHZkG_Tb"
      }
    },
    {
      "cell_type": "code",
      "source": [
        "df_spain = df[(df.COUNTRY == 'Spain') & (df.STATUS != 'Disputed') & (df.YEAR_ID == 2003)]\n",
        "hasil = df_spain[['QUANTITYORDERED', 'PRICEEACH','SALES']].max()\n",
        "print(hasil)"
      ],
      "metadata": {
        "colab": {
          "base_uri": "https://localhost:8080/"
        },
        "id": "lt3gdgBhEA5f",
        "outputId": "2aa61cd9-d011-4089-d3e6-774ea85b0120"
      },
      "execution_count": null,
      "outputs": [
        {
          "output_type": "stream",
          "name": "stdout",
          "text": [
            "QUANTITYORDERED      50.00\n",
            "PRICEEACH           100.00\n",
            "SALES              8291.04\n",
            "dtype: float64\n"
          ]
        }
      ]
    },
    {
      "cell_type": "markdown",
      "source": [
        "### 3.Berapa total penjualan terendah dan tertinggi untuk setiap status yang sudah dikirim?"
      ],
      "metadata": {
        "id": "aNhq4fblMb2Q"
      }
    },
    {
      "cell_type": "code",
      "source": [
        "result = df[df.STATUS == 'Shipped']['SALES'].aggregate(['min', 'max'])\n",
        "result"
      ],
      "metadata": {
        "colab": {
          "base_uri": "https://localhost:8080/"
        },
        "id": "cB5KP0OdJxQi",
        "outputId": "d12a4d80-3598-4d57-8a06-2c0b779840e9"
      },
      "execution_count": null,
      "outputs": [
        {
          "output_type": "execute_result",
          "data": {
            "text/plain": [
              "min      553.95\n",
              "max    12536.50\n",
              "Name: SALES, dtype: float64"
            ]
          },
          "metadata": {},
          "execution_count": 64
        }
      ]
    },
    {
      "cell_type": "markdown",
      "source": [
        "### 4. Tampilkan data penjualan untuk negara perancis dengan ketentuan sebagai berikut:\n",
        "\n",
        "1. Kolom yang ditampilkan hanya `COUNTRY`, `QUANTITYORDERED`, `PRICEEACH` dan `SALES`.\n",
        "2. Sorting datanya berdasarkan kolom `SALES` secara descending."
      ],
      "metadata": {
        "id": "lGtciRIuPvQp"
      }
    },
    {
      "cell_type": "code",
      "source": [
        "df_france = df[df.COUNTRY == 'France']\n",
        "df_france = df_france[['COUNTRY', 'QUANTITYORDERED', 'PRICEEACH','SALES']]\n",
        "print(df_france.sort_values(by='SALES', ascending=False))"
      ],
      "metadata": {
        "colab": {
          "base_uri": "https://localhost:8080/"
        },
        "id": "A_MePGWUOpwE",
        "outputId": "13baa27a-985d-47e4-93f9-8ce9f29606a7"
      },
      "execution_count": null,
      "outputs": [
        {
          "output_type": "stream",
          "name": "stdout",
          "text": [
            "     COUNTRY  QUANTITYORDERED  PRICEEACH     SALES\n",
            "1995  France               76     100.00  11739.70\n",
            "43    France               47     100.00  10172.70\n",
            "2117  France               43     100.00  10039.60\n",
            "1558  France               48     100.00   9720.00\n",
            "2634  France               46     100.00   9558.80\n",
            "...      ...              ...        ...       ...\n",
            "22    France               21      34.91    733.11\n",
            "1717  France               24      30.06    721.44\n",
            "1557  France               20      35.18    703.60\n",
            "1553  France               23      30.20    694.60\n",
            "2249  France               11      43.83    482.13\n",
            "\n",
            "[314 rows x 4 columns]\n"
          ]
        }
      ]
    },
    {
      "cell_type": "markdown",
      "source": [
        "### 5.Tampilkan rata-rata, maksimal dan minimum nilai penjualan dari kelompok (group) berbagai negara yang bukan finland dan tahun,  dimana statusnya Shipped. "
      ],
      "metadata": {
        "id": "xzzhLO0QRNXy"
      }
    },
    {
      "cell_type": "code",
      "source": [
        "hasil = df[(df.COUNTRY != 'Finland') & (df.STATUS == 'Shipped')]\\\n",
        "   .groupby(['COUNTRY', 'YEAR_ID'])['SALES']\\\n",
        "   .aggregate(['mean', 'max', 'mean'])\n",
        "\n",
        "print(hasil)"
      ],
      "metadata": {
        "colab": {
          "base_uri": "https://localhost:8080/"
        },
        "id": "fW2zwudHPNSV",
        "outputId": "ec997577-a5f7-4dcb-894e-10adbb7ebbf5"
      },
      "execution_count": null,
      "outputs": [
        {
          "output_type": "stream",
          "name": "stdout",
          "text": [
            "                            mean       max         mean\n",
            "COUNTRY     YEAR_ID                                    \n",
            "Australia   2003     3287.460390   9264.86  3287.460390\n",
            "            2004     3575.333538   9774.03  3575.333538\n",
            "            2005     3469.698000   8470.14  3469.698000\n",
            "Austria     2003     2975.960556   6916.12  2975.960556\n",
            "            2004     4307.865833   8118.55  4307.865833\n",
            "            2005     4014.721176   9240.00  4014.721176\n",
            "Belgium     2003     1674.230000   1711.26  1674.230000\n",
            "            2004     3479.306522   6804.63  3479.306522\n",
            "            2005     5542.720000   6275.72  5542.720000\n",
            "Canada      2003     3640.633333   9064.89  3640.633333\n",
            "            2004     2951.654130   6678.00  2951.654130\n",
            "            2005     3743.663333   6232.00  3743.663333\n",
            "Denmark     2003     3673.804444   8690.36  3673.804444\n",
            "            2004     3854.118000   7975.44  3854.118000\n",
            "France      2003     3594.958851   8892.90  3594.958851\n",
            "            2004     3406.126994  10172.70  3406.126994\n",
            "            2005     3905.327647  11739.70  3905.327647\n",
            "Germany     2003     3335.871905   5590.00  3335.871905\n",
            "            2004     3668.750732   8940.96  3668.750732\n",
            "Ireland     2004     3609.776875   8258.00  3609.776875\n",
            "Italy       2003     3202.926591   8378.69  3202.926591\n",
            "            2004     3495.192727   9160.36  3495.192727\n",
            "            2005     2964.995714   5642.83  2964.995714\n",
            "Japan       2004     3557.677857  10758.00  3557.677857\n",
            "            2005     3874.534000   7031.52  3874.534000\n",
            "Norway      2003     3708.162264   8714.70  3708.162264\n",
            "            2004     3466.596875   8844.12  3466.596875\n",
            "Philippines 2003     3549.408182   7483.98  3549.408182\n",
            "            2004     3982.187500   6101.00  3982.187500\n",
            "Singapore   2003     4041.126829  10993.50  4041.126829\n",
            "            2004     3315.400857   7020.48  3315.400857\n",
            "            2005     2254.393333   4175.60  2254.393333\n",
            "Spain       2003     3494.339569   8291.04  3494.339569\n",
            "            2004     3582.931488   9534.50  3582.931488\n",
            "            2005     3491.986610  11887.80  3491.986610\n",
            "Sweden      2003     4874.500000   7209.11  4874.500000\n",
            "            2004     3747.494400   7136.19  3747.494400\n",
            "            2005     3950.840000   6981.00  3950.840000\n",
            "Switzerland 2004     3797.211613   6761.60  3797.211613\n",
            "UK          2003     3469.645192   7310.00  3469.645192\n",
            "            2004     3003.592029   7310.00  3003.592029\n",
            "            2005     4533.645556  11886.60  4533.645556\n",
            "USA         2003     3556.261253  11279.20  3556.261253\n",
            "            2004     3565.463109  12536.50  3565.463109\n",
            "            2005     3953.179352  10066.60  3953.179352\n"
          ]
        }
      ]
    },
    {
      "cell_type": "markdown",
      "source": [
        "### 6.Tampilkan total cell atau data yang kosong (tidak valid-NaN) untuk dataset ini."
      ],
      "metadata": {
        "id": "VLYhzZFrxB-q"
      }
    },
    {
      "cell_type": "code",
      "source": [
        "df.isna().sum()"
      ],
      "metadata": {
        "colab": {
          "base_uri": "https://localhost:8080/"
        },
        "id": "VbXJtIUUvhg5",
        "outputId": "e1336a40-0347-4cad-ece4-ee1f6c59ce76"
      },
      "execution_count": null,
      "outputs": [
        {
          "output_type": "execute_result",
          "data": {
            "text/plain": [
              "ORDERNUMBER            0\n",
              "QUANTITYORDERED        0\n",
              "PRICEEACH              0\n",
              "ORDERLINENUMBER        0\n",
              "SALES                  0\n",
              "ORDERDATE              0\n",
              "STATUS                 0\n",
              "QTR_ID                 0\n",
              "MONTH_ID               0\n",
              "YEAR_ID                0\n",
              "PRODUCTLINE            0\n",
              "MSRP                   0\n",
              "PRODUCTCODE            0\n",
              "CUSTOMERNAME           0\n",
              "PHONE                  0\n",
              "ADDRESSLINE1           0\n",
              "ADDRESSLINE2        2521\n",
              "CITY                   0\n",
              "STATE               1486\n",
              "POSTALCODE            76\n",
              "COUNTRY                0\n",
              "TERRITORY           1074\n",
              "CONTACTLASTNAME        0\n",
              "CONTACTFIRSTNAME       0\n",
              "DEALSIZE               0\n",
              "dtype: int64"
            ]
          },
          "metadata": {},
          "execution_count": 17
        }
      ]
    },
    {
      "cell_type": "markdown",
      "source": [
        "### 7.Periksa dan tampilkan hasil pemeriksaan data duplikat."
      ],
      "metadata": {
        "id": "58XmAF_Mzmyl"
      }
    },
    {
      "cell_type": "code",
      "source": [
        "df.duplicated()"
      ],
      "metadata": {
        "colab": {
          "base_uri": "https://localhost:8080/"
        },
        "id": "bbYvn5ZgxoBo",
        "outputId": "bd65d3bf-835c-4fab-c05b-9ce8194fd49f"
      },
      "execution_count": null,
      "outputs": [
        {
          "output_type": "execute_result",
          "data": {
            "text/plain": [
              "0       False\n",
              "1       False\n",
              "2       False\n",
              "3       False\n",
              "4       False\n",
              "        ...  \n",
              "2818    False\n",
              "2819    False\n",
              "2820    False\n",
              "2821    False\n",
              "2822    False\n",
              "Length: 2823, dtype: bool"
            ]
          },
          "metadata": {},
          "execution_count": 18
        }
      ]
    },
    {
      "cell_type": "code",
      "source": [
        ""
      ],
      "metadata": {
        "id": "DwbpFdbU8Pbg"
      },
      "execution_count": null,
      "outputs": []
    }
  ]
}